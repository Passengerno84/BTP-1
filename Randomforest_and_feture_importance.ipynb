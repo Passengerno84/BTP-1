{
  "nbformat": 4,
  "nbformat_minor": 0,
  "metadata": {
    "colab": {
      "provenance": []
    },
    "kernelspec": {
      "name": "python3",
      "display_name": "Python 3"
    },
    "language_info": {
      "name": "python"
    }
  },
  "cells": [
    {
      "cell_type": "code",
      "execution_count": null,
      "metadata": {
        "id": "U6iIUzvqvjct"
      },
      "outputs": [],
      "source": [
        "import pandas as pd\n",
        "import numpy as np\n",
        "import sys\n",
        "import os\n",
        "from openpyxl import load_workbook\n",
        "import scipy.spatial\n",
        "import math\n",
        "from google.colab import files\n",
        "import matplotlib.pyplot as plt"
      ]
    },
    {
      "cell_type": "code",
      "source": [
        "df = pd.read_excel('/content/marged_vf50_new_fine.xlsx')\n",
        "\n"
      ],
      "metadata": {
        "id": "VG2Ri6JZmLTG"
      },
      "execution_count": null,
      "outputs": []
    },
    {
      "cell_type": "code",
      "source": [
        "df.head()"
      ],
      "metadata": {
        "id": "1GCwFwY6oomq",
        "colab": {
          "base_uri": "https://localhost:8080/",
          "height": 288
        },
        "outputId": "2caf2260-6614-47b3-f653-c65beb34bd13"
      },
      "execution_count": null,
      "outputs": [
        {
          "output_type": "execute_result",
          "data": {
            "text/plain": [
              "   Unnamed: 0           x1           x2           x3           x4  \\\n",
              "0           0   765.271009   666.870681   722.410885   667.919567   \n",
              "1           1  2075.773702  2110.127022  2130.091560  2183.504359   \n",
              "2           2   655.102333   611.311029   815.309357   748.304981   \n",
              "3           3   231.356742    78.010319    63.377021   166.286520   \n",
              "4           4  3438.755882  3425.902416  3346.904098  3343.424495   \n",
              "\n",
              "            x5           x6           x7           x8           y1  \\\n",
              "0   805.445562   887.278939   633.752004   742.285757  1830.599870   \n",
              "1  2267.728348  2023.988573  2210.397745  1997.306689  1420.364109   \n",
              "2   745.501802   831.632011   538.147185   687.191953  2835.487109   \n",
              "3   228.818338   127.816732    -2.138147   302.676470  1737.093857   \n",
              "4  3476.514511  3389.877396  3479.513080  3266.567944  2675.692976   \n",
              "\n",
              "            y2           y3           y4           y5           y6  \\\n",
              "0  1933.275480  2012.918446  1841.599085  2012.654217  1923.997970   \n",
              "1  1534.803872  1356.222470  1574.123014  1461.665092  1523.451900   \n",
              "2  2951.149401  2908.051238  3016.444659  2791.120302  2990.302604   \n",
              "3  1676.685934  1777.174690  1832.280983  1639.310132  1580.922891   \n",
              "4  2843.918425  2698.649523  2802.818827  2558.189832  2583.889128   \n",
              "\n",
              "            y7           y8      X_coord      Y_coord      M_pri  \n",
              "0  2009.692051  1750.447278   747.762872  1910.918636  11.899739  \n",
              "1  1330.763839  1444.447757  2147.312089  1460.817004  13.164721  \n",
              "2  2841.587020  3088.366262   701.493258  2904.973001  10.571309  \n",
              "3  1719.708493  1778.908065   148.610916  1727.450524  19.470829  \n",
              "4  2949.296322  2734.150739  3490.474141  2741.386607  11.453999  "
            ],
            "text/html": [
              "\n",
              "  <div id=\"df-b1d7eb92-571c-488d-83c6-c95b346def24\">\n",
              "    <div class=\"colab-df-container\">\n",
              "      <div>\n",
              "<style scoped>\n",
              "    .dataframe tbody tr th:only-of-type {\n",
              "        vertical-align: middle;\n",
              "    }\n",
              "\n",
              "    .dataframe tbody tr th {\n",
              "        vertical-align: top;\n",
              "    }\n",
              "\n",
              "    .dataframe thead th {\n",
              "        text-align: right;\n",
              "    }\n",
              "</style>\n",
              "<table border=\"1\" class=\"dataframe\">\n",
              "  <thead>\n",
              "    <tr style=\"text-align: right;\">\n",
              "      <th></th>\n",
              "      <th>Unnamed: 0</th>\n",
              "      <th>x1</th>\n",
              "      <th>x2</th>\n",
              "      <th>x3</th>\n",
              "      <th>x4</th>\n",
              "      <th>x5</th>\n",
              "      <th>x6</th>\n",
              "      <th>x7</th>\n",
              "      <th>x8</th>\n",
              "      <th>y1</th>\n",
              "      <th>y2</th>\n",
              "      <th>y3</th>\n",
              "      <th>y4</th>\n",
              "      <th>y5</th>\n",
              "      <th>y6</th>\n",
              "      <th>y7</th>\n",
              "      <th>y8</th>\n",
              "      <th>X_coord</th>\n",
              "      <th>Y_coord</th>\n",
              "      <th>M_pri</th>\n",
              "    </tr>\n",
              "  </thead>\n",
              "  <tbody>\n",
              "    <tr>\n",
              "      <th>0</th>\n",
              "      <td>0</td>\n",
              "      <td>765.271009</td>\n",
              "      <td>666.870681</td>\n",
              "      <td>722.410885</td>\n",
              "      <td>667.919567</td>\n",
              "      <td>805.445562</td>\n",
              "      <td>887.278939</td>\n",
              "      <td>633.752004</td>\n",
              "      <td>742.285757</td>\n",
              "      <td>1830.599870</td>\n",
              "      <td>1933.275480</td>\n",
              "      <td>2012.918446</td>\n",
              "      <td>1841.599085</td>\n",
              "      <td>2012.654217</td>\n",
              "      <td>1923.997970</td>\n",
              "      <td>2009.692051</td>\n",
              "      <td>1750.447278</td>\n",
              "      <td>747.762872</td>\n",
              "      <td>1910.918636</td>\n",
              "      <td>11.899739</td>\n",
              "    </tr>\n",
              "    <tr>\n",
              "      <th>1</th>\n",
              "      <td>1</td>\n",
              "      <td>2075.773702</td>\n",
              "      <td>2110.127022</td>\n",
              "      <td>2130.091560</td>\n",
              "      <td>2183.504359</td>\n",
              "      <td>2267.728348</td>\n",
              "      <td>2023.988573</td>\n",
              "      <td>2210.397745</td>\n",
              "      <td>1997.306689</td>\n",
              "      <td>1420.364109</td>\n",
              "      <td>1534.803872</td>\n",
              "      <td>1356.222470</td>\n",
              "      <td>1574.123014</td>\n",
              "      <td>1461.665092</td>\n",
              "      <td>1523.451900</td>\n",
              "      <td>1330.763839</td>\n",
              "      <td>1444.447757</td>\n",
              "      <td>2147.312089</td>\n",
              "      <td>1460.817004</td>\n",
              "      <td>13.164721</td>\n",
              "    </tr>\n",
              "    <tr>\n",
              "      <th>2</th>\n",
              "      <td>2</td>\n",
              "      <td>655.102333</td>\n",
              "      <td>611.311029</td>\n",
              "      <td>815.309357</td>\n",
              "      <td>748.304981</td>\n",
              "      <td>745.501802</td>\n",
              "      <td>831.632011</td>\n",
              "      <td>538.147185</td>\n",
              "      <td>687.191953</td>\n",
              "      <td>2835.487109</td>\n",
              "      <td>2951.149401</td>\n",
              "      <td>2908.051238</td>\n",
              "      <td>3016.444659</td>\n",
              "      <td>2791.120302</td>\n",
              "      <td>2990.302604</td>\n",
              "      <td>2841.587020</td>\n",
              "      <td>3088.366262</td>\n",
              "      <td>701.493258</td>\n",
              "      <td>2904.973001</td>\n",
              "      <td>10.571309</td>\n",
              "    </tr>\n",
              "    <tr>\n",
              "      <th>3</th>\n",
              "      <td>3</td>\n",
              "      <td>231.356742</td>\n",
              "      <td>78.010319</td>\n",
              "      <td>63.377021</td>\n",
              "      <td>166.286520</td>\n",
              "      <td>228.818338</td>\n",
              "      <td>127.816732</td>\n",
              "      <td>-2.138147</td>\n",
              "      <td>302.676470</td>\n",
              "      <td>1737.093857</td>\n",
              "      <td>1676.685934</td>\n",
              "      <td>1777.174690</td>\n",
              "      <td>1832.280983</td>\n",
              "      <td>1639.310132</td>\n",
              "      <td>1580.922891</td>\n",
              "      <td>1719.708493</td>\n",
              "      <td>1778.908065</td>\n",
              "      <td>148.610916</td>\n",
              "      <td>1727.450524</td>\n",
              "      <td>19.470829</td>\n",
              "    </tr>\n",
              "    <tr>\n",
              "      <th>4</th>\n",
              "      <td>4</td>\n",
              "      <td>3438.755882</td>\n",
              "      <td>3425.902416</td>\n",
              "      <td>3346.904098</td>\n",
              "      <td>3343.424495</td>\n",
              "      <td>3476.514511</td>\n",
              "      <td>3389.877396</td>\n",
              "      <td>3479.513080</td>\n",
              "      <td>3266.567944</td>\n",
              "      <td>2675.692976</td>\n",
              "      <td>2843.918425</td>\n",
              "      <td>2698.649523</td>\n",
              "      <td>2802.818827</td>\n",
              "      <td>2558.189832</td>\n",
              "      <td>2583.889128</td>\n",
              "      <td>2949.296322</td>\n",
              "      <td>2734.150739</td>\n",
              "      <td>3490.474141</td>\n",
              "      <td>2741.386607</td>\n",
              "      <td>11.453999</td>\n",
              "    </tr>\n",
              "  </tbody>\n",
              "</table>\n",
              "</div>\n",
              "      <button class=\"colab-df-convert\" onclick=\"convertToInteractive('df-b1d7eb92-571c-488d-83c6-c95b346def24')\"\n",
              "              title=\"Convert this dataframe to an interactive table.\"\n",
              "              style=\"display:none;\">\n",
              "        \n",
              "  <svg xmlns=\"http://www.w3.org/2000/svg\" height=\"24px\"viewBox=\"0 0 24 24\"\n",
              "       width=\"24px\">\n",
              "    <path d=\"M0 0h24v24H0V0z\" fill=\"none\"/>\n",
              "    <path d=\"M18.56 5.44l.94 2.06.94-2.06 2.06-.94-2.06-.94-.94-2.06-.94 2.06-2.06.94zm-11 1L8.5 8.5l.94-2.06 2.06-.94-2.06-.94L8.5 2.5l-.94 2.06-2.06.94zm10 10l.94 2.06.94-2.06 2.06-.94-2.06-.94-.94-2.06-.94 2.06-2.06.94z\"/><path d=\"M17.41 7.96l-1.37-1.37c-.4-.4-.92-.59-1.43-.59-.52 0-1.04.2-1.43.59L10.3 9.45l-7.72 7.72c-.78.78-.78 2.05 0 2.83L4 21.41c.39.39.9.59 1.41.59.51 0 1.02-.2 1.41-.59l7.78-7.78 2.81-2.81c.8-.78.8-2.07 0-2.86zM5.41 20L4 18.59l7.72-7.72 1.47 1.35L5.41 20z\"/>\n",
              "  </svg>\n",
              "      </button>\n",
              "      \n",
              "  <style>\n",
              "    .colab-df-container {\n",
              "      display:flex;\n",
              "      flex-wrap:wrap;\n",
              "      gap: 12px;\n",
              "    }\n",
              "\n",
              "    .colab-df-convert {\n",
              "      background-color: #E8F0FE;\n",
              "      border: none;\n",
              "      border-radius: 50%;\n",
              "      cursor: pointer;\n",
              "      display: none;\n",
              "      fill: #1967D2;\n",
              "      height: 32px;\n",
              "      padding: 0 0 0 0;\n",
              "      width: 32px;\n",
              "    }\n",
              "\n",
              "    .colab-df-convert:hover {\n",
              "      background-color: #E2EBFA;\n",
              "      box-shadow: 0px 1px 2px rgba(60, 64, 67, 0.3), 0px 1px 3px 1px rgba(60, 64, 67, 0.15);\n",
              "      fill: #174EA6;\n",
              "    }\n",
              "\n",
              "    [theme=dark] .colab-df-convert {\n",
              "      background-color: #3B4455;\n",
              "      fill: #D2E3FC;\n",
              "    }\n",
              "\n",
              "    [theme=dark] .colab-df-convert:hover {\n",
              "      background-color: #434B5C;\n",
              "      box-shadow: 0px 1px 3px 1px rgba(0, 0, 0, 0.15);\n",
              "      filter: drop-shadow(0px 1px 2px rgba(0, 0, 0, 0.3));\n",
              "      fill: #FFFFFF;\n",
              "    }\n",
              "  </style>\n",
              "\n",
              "      <script>\n",
              "        const buttonEl =\n",
              "          document.querySelector('#df-b1d7eb92-571c-488d-83c6-c95b346def24 button.colab-df-convert');\n",
              "        buttonEl.style.display =\n",
              "          google.colab.kernel.accessAllowed ? 'block' : 'none';\n",
              "\n",
              "        async function convertToInteractive(key) {\n",
              "          const element = document.querySelector('#df-b1d7eb92-571c-488d-83c6-c95b346def24');\n",
              "          const dataTable =\n",
              "            await google.colab.kernel.invokeFunction('convertToInteractive',\n",
              "                                                     [key], {});\n",
              "          if (!dataTable) return;\n",
              "\n",
              "          const docLinkHtml = 'Like what you see? Visit the ' +\n",
              "            '<a target=\"_blank\" href=https://colab.research.google.com/notebooks/data_table.ipynb>data table notebook</a>'\n",
              "            + ' to learn more about interactive tables.';\n",
              "          element.innerHTML = '';\n",
              "          dataTable['output_type'] = 'display_data';\n",
              "          await google.colab.output.renderOutput(dataTable, element);\n",
              "          const docLink = document.createElement('div');\n",
              "          docLink.innerHTML = docLinkHtml;\n",
              "          element.appendChild(docLink);\n",
              "        }\n",
              "      </script>\n",
              "    </div>\n",
              "  </div>\n",
              "  "
            ]
          },
          "metadata": {},
          "execution_count": 161
        }
      ]
    },
    {
      "cell_type": "code",
      "source": [
        "df.shape"
      ],
      "metadata": {
        "id": "sxnCLpyBmjLi",
        "colab": {
          "base_uri": "https://localhost:8080/"
        },
        "outputId": "f3458adb-e57a-41ff-eca3-b7c5e0664860"
      },
      "execution_count": null,
      "outputs": [
        {
          "output_type": "execute_result",
          "data": {
            "text/plain": [
              "(63667, 20)"
            ]
          },
          "metadata": {},
          "execution_count": 162
        }
      ]
    },
    {
      "cell_type": "code",
      "source": [
        "df.columns"
      ],
      "metadata": {
        "id": "YQVkj8YXmlCJ",
        "colab": {
          "base_uri": "https://localhost:8080/"
        },
        "outputId": "5b07a133-6bed-450c-ba53-1b784cee9953"
      },
      "execution_count": null,
      "outputs": [
        {
          "output_type": "execute_result",
          "data": {
            "text/plain": [
              "Index(['Unnamed: 0', 'x1', 'x2', 'x3', 'x4', 'x5', 'x6', 'x7', 'x8', 'y1',\n",
              "       'y2', 'y3', 'y4', 'y5', 'y6', 'y7', 'y8', 'X_coord', 'Y_coord',\n",
              "       'M_pri'],\n",
              "      dtype='object')"
            ]
          },
          "metadata": {},
          "execution_count": 163
        }
      ]
    },
    {
      "cell_type": "markdown",
      "source": [
        "Dropping Unnecessary features "
      ],
      "metadata": {
        "id": "aE8kQCrlZ23n"
      }
    },
    {
      "cell_type": "code",
      "source": [
        "df = df.drop(['Unnamed: 0'] , axis = 1)\n",
        "dataset = df.values\n",
        "dataset\n",
        "\n",
        "Y = dataset[: , 18]\n",
        "\n",
        "df = df.drop(['M_pri','x5', 'x6', 'x7', 'x8','y5', 'y6', 'y7', 'y8'],axis=1)\n",
        "df.columns\n",
        "dataset = df.values\n",
        "X= dataset[:,:]"
      ],
      "metadata": {
        "id": "S797rsMBmm75"
      },
      "execution_count": null,
      "outputs": []
    },
    {
      "cell_type": "markdown",
      "source": [
        "Train-Test split and Normalisation"
      ],
      "metadata": {
        "id": "OXyF1mHuaWne"
      }
    },
    {
      "cell_type": "code",
      "source": [
        "from sklearn.model_selection import train_test_split\n",
        "X_train, X_test, Y_train, Y_test = train_test_split(X, Y, test_size=0.2)"
      ],
      "metadata": {
        "id": "0eV5MKfknDlB"
      },
      "execution_count": null,
      "outputs": []
    },
    {
      "cell_type": "code",
      "source": [
        "from sklearn.preprocessing import StandardScaler\n",
        "s_scaler = StandardScaler()\n",
        "X_train = s_scaler.fit_transform(X_train.astype(np.float))\n",
        "X_test = s_scaler.transform(X_test.astype(np.float))\n",
        "Y_test = StandardScaler().fit_transform(Y_test.reshape(len(Y_test),1))[:,0]\n",
        "Y_train = StandardScaler().fit_transform(Y_train.reshape(len(Y_train),1))[:,0]"
      ],
      "metadata": {
        "id": "dFATS6J3nGzh",
        "colab": {
          "base_uri": "https://localhost:8080/"
        },
        "outputId": "12d2136c-4923-4e0d-dcad-620e22de4380"
      },
      "execution_count": null,
      "outputs": [
        {
          "output_type": "stream",
          "name": "stderr",
          "text": [
            "`np.float` is a deprecated alias for the builtin `float`. To silence this warning, use `float` by itself. Doing this will not modify any behavior and is safe. If you specifically wanted the numpy scalar type, use `np.float64` here.\n",
            "Deprecated in NumPy 1.20; for more details and guidance: https://numpy.org/devdocs/release/1.20.0-notes.html#deprecations\n",
            "`np.float` is a deprecated alias for the builtin `float`. To silence this warning, use `float` by itself. Doing this will not modify any behavior and is safe. If you specifically wanted the numpy scalar type, use `np.float64` here.\n",
            "Deprecated in NumPy 1.20; for more details and guidance: https://numpy.org/devdocs/release/1.20.0-notes.html#deprecations\n"
          ]
        }
      ]
    },
    {
      "cell_type": "markdown",
      "source": [
        "RandomForest Regressor"
      ],
      "metadata": {
        "id": "BDfU6yPVafV2"
      }
    },
    {
      "cell_type": "code",
      "source": [
        " from sklearn.ensemble import RandomForestRegressor\n",
        "\n",
        " model = RandomForestRegressor(random_state = 1)\n",
        " model.fit(X_train , Y_train)\n",
        " pred =  model.predict(X_test)\n",
        " \n",
        " from sklearn.metrics import mean_squared_error\n",
        " mse = mean_squared_error(Y_test , pred)\n",
        "\n",
        " mse"
      ],
      "metadata": {
        "id": "LBnpXm3KnJfY",
        "colab": {
          "base_uri": "https://localhost:8080/"
        },
        "outputId": "c3434fd6-b5e5-4bfd-b937-839a55dfcef9"
      },
      "execution_count": null,
      "outputs": [
        {
          "output_type": "execute_result",
          "data": {
            "text/plain": [
              "0.6046413905317709"
            ]
          },
          "metadata": {},
          "execution_count": 167
        }
      ]
    },
    {
      "cell_type": "code",
      "source": [
        "Y_pred = model.predict(X_test)\n",
        "from sklearn import metrics\n",
        "print('MAE:', metrics.mean_absolute_error(Y_test, Y_pred))  \n",
        "#print('MSE:', metrics.mean_squared_error(y_test, y_pred))  \n",
        "# print('RMSE:', np.sqrt(metrics.mean_squared_error(y_test, y_pred)))\n",
        "# print('VarScore:',metrics.explained_variance_score(y_test,y_pred))\n",
        "# Visualizing Our predictions\n",
        "fig = plt.figure(figsize=(10,5))\n",
        "plt.scatter(Y_test,Y_pred)\n",
        "# Perfect predictions\n",
        "plt.plot(Y_test,Y_test,'r')"
      ],
      "metadata": {
        "id": "RjO2j4CTpVLC",
        "colab": {
          "base_uri": "https://localhost:8080/",
          "height": 355
        },
        "outputId": "d7e8becf-6918-4e6a-9cf5-dd8943406d9e"
      },
      "execution_count": null,
      "outputs": [
        {
          "output_type": "stream",
          "name": "stdout",
          "text": [
            "MAE: 0.6022163241952256\n"
          ]
        },
        {
          "output_type": "execute_result",
          "data": {
            "text/plain": [
              "[<matplotlib.lines.Line2D at 0x7f072d94f990>]"
            ]
          },
          "metadata": {},
          "execution_count": 168
        },
        {
          "output_type": "display_data",
          "data": {
            "text/plain": [
              "<Figure size 720x360 with 1 Axes>"
            ],
            "image/png": "[encoded data removed]"
          },
          "metadata": {
            "needs_background": "light"
          }
        }
      ]
    },
    {
      "cell_type": "code",
      "source": [
        "from sklearn.metrics import r2_score\n",
        "r2_score(Y_test, Y_pred)"
      ],
      "metadata": {
        "id": "6pc95nGHn6J6",
        "colab": {
          "base_uri": "https://localhost:8080/"
        },
        "outputId": "8af17b8b-e753-43d0-a692-9475ea59f97a"
      },
      "execution_count": null,
      "outputs": [
        {
          "output_type": "execute_result",
          "data": {
            "text/plain": [
              "0.3953586094682292"
            ]
          },
          "metadata": {},
          "execution_count": 169
        }
      ]
    },
    {
      "cell_type": "markdown",
      "source": [
        "Feature Importance Based on Feature permutation"
      ],
      "metadata": {
        "id": "jq_aSfMaaqSW"
      }
    },
    {
      "cell_type": "code",
      "source": [
        "import time\n",
        "import numpy as np"
      ],
      "metadata": {
        "id": "G8FM_HBnu8Cp"
      },
      "execution_count": null,
      "outputs": []
    },
    {
      "cell_type": "code",
      "source": [
        "\n",
        "feature_names = [i for i in df.columns]\n",
        "feature_names=np.array(feature_names)"
      ],
      "metadata": {
        "id": "TZulGte80FIz"
      },
      "execution_count": null,
      "outputs": []
    },
    {
      "cell_type": "code",
      "source": [
        "from sklearn.inspection import permutation_importance\n",
        "\n",
        "start_time = time.time()\n",
        "result = permutation_importance(\n",
        "    model, X_test, Y_test, n_repeats=10, random_state=42\n",
        ")\n",
        "elapsed_time = time.time() - start_time\n",
        "print(f\"Elapsed time to compute the importances: {elapsed_time:.3f} seconds\")\n",
        "\n",
        "forest_importances = pd.Series(result.importances_mean, index=feature_names)"
      ],
      "metadata": {
        "id": "5qvtbPVAqfq-",
        "colab": {
          "base_uri": "https://localhost:8080/"
        },
        "outputId": "405198a3-9639-42e5-a647-d9d07f369074"
      },
      "execution_count": null,
      "outputs": [
        {
          "output_type": "stream",
          "name": "stdout",
          "text": [
            "Elapsed time to compute the importances: 61.820 seconds\n"
          ]
        }
      ]
    },
    {
      "cell_type": "code",
      "source": [
        "fig, ax = plt.subplots()\n",
        "forest_importances.plot.bar(yerr=result.importances_std, ax=ax)\n",
        "ax.set_title(\"Feature importances using permutation on full model\")\n",
        "ax.set_ylabel(\"Mean accuracy decrease\")\n",
        "fig.tight_layout()\n",
        "plt.show()"
      ],
      "metadata": {
        "id": "Lw6X5Alhuv_r",
        "colab": {
          "base_uri": "https://localhost:8080/",
          "height": 297
        },
        "outputId": "f25e8220-e77b-4a68-e236-139545220ce3"
      },
      "execution_count": null,
      "outputs": [
        {
          "output_type": "display_data",
          "data": {
            "text/plain": [
              "<Figure size 432x288 with 1 Axes>"
            ],
            "image/png": "[encoded data removed]"
          },
          "metadata": {
            "needs_background": "light"
          }
        }
      ]
    },
    {
      "cell_type": "markdown",
      "source": [
        "Feature Importance Basesed on Mean Decrease in Impurity"
      ],
      "metadata": {
        "id": "bY1ViUUnbBMW"
      }
    },
    {
      "cell_type": "code",
      "source": [
        "\n",
        "start_time = time.time()\n",
        "importances = model.feature_importances_\n",
        "std = np.std([tree.feature_importances_ for tree in model.estimators_], axis=0)\n",
        "elapsed_time = time.time() - start_time\n",
        "print(f\"Elapsed time to compute the importances: {elapsed_time:.3f} seconds\")"
      ],
      "metadata": {
        "id": "UsI6Fcn8yTDe",
        "colab": {
          "base_uri": "https://localhost:8080/"
        },
        "outputId": "6e475abd-0059-4211-9dd4-1be6ccfc3769"
      },
      "execution_count": null,
      "outputs": [
        {
          "output_type": "stream",
          "name": "stdout",
          "text": [
            "Elapsed time to compute the importances: 0.172 seconds\n"
          ]
        }
      ]
    },
    {
      "cell_type": "code",
      "source": [
        "import pandas as pd\n",
        "\n",
        "forest_importances = pd.Series(importances, index=feature_names)\n",
        "\n",
        "fig, ax = plt.subplots()\n",
        "forest_importances.plot.bar(yerr=std, ax=ax)\n",
        "ax.set_title(\"Feature importances using MDI\")\n",
        "ax.set_ylabel(\"Mean decrease in impurity\")\n",
        "fig.tight_layout()"
      ],
      "metadata": {
        "id": "DQncaPsXzmWb",
        "colab": {
          "base_uri": "https://localhost:8080/",
          "height": 297
        },
        "outputId": "5c9f471a-4750-4f25-b0f2-0975ddbb7ec1"
      },
      "execution_count": null,
      "outputs": [
        {
          "output_type": "display_data",
          "data": {
            "text/plain": [
              "<Figure size 432x288 with 1 Axes>"
            ],
            "image/png": "[encoded data removed]"
          },
          "metadata": {
            "needs_background": "light"
          }
        }
      ]
    },
    {
      "cell_type": "markdown",
      "source": [
        "Retrain Data Using Important Features"
      ],
      "metadata": {
        "id": "HVapB2cCbRRO"
      }
    },
    {
      "cell_type": "code",
      "source": [
        "df = pd.read_excel('/content/marged_vf40.xlsx')"
      ],
      "metadata": {
        "id": "qyrc7cqn1f1G"
      },
      "execution_count": null,
      "outputs": []
    },
    {
      "cell_type": "code",
      "source": [
        "df = df.drop(['Unnamed: 0','radius','region','set'] , axis = 1)\n",
        "dataset = df.values\n",
        "dataset\n",
        "\n",
        "Y = dataset[: , 2]\n",
        "\n",
        "df = df.drop(['M_pri','S_11','S_22','S_33','S_12','NNPA','NND6', 'NND7', 'NND8','AVG_NND6','AVG_NND8','NNA7','NNA8','VF_4R','vf_5r', 'vf_7r', 'vf_8r','x1','y1'],axis=1)\n",
        "df.columns\n",
        "dataset = df.values\n",
        "X= dataset[:,:]"
      ],
      "metadata": {
        "id": "_zfwHKMYA-IN"
      },
      "execution_count": null,
      "outputs": []
    },
    {
      "cell_type": "code",
      "source": [
        "df.columns"
      ],
      "metadata": {
        "id": "GJhkW9Ke9NM-",
        "colab": {
          "base_uri": "https://localhost:8080/"
        },
        "outputId": "add53999-1981-4fd7-82d0-177257c19d3e"
      },
      "execution_count": null,
      "outputs": [
        {
          "output_type": "execute_result",
          "data": {
            "text/plain": [
              "Index(['X_coord', 'Y_coord', 'NND1', 'NND2', 'NND3', 'NND4', 'NND5',\n",
              "       'AVG_NND2', 'AVG_NND4', 'NNA1', 'NNA2', 'VF_3R', 'NNA3', 'NNA4', 'NNA5',\n",
              "       'NNA6', 'vf_6r'],\n",
              "      dtype='object')"
            ]
          },
          "metadata": {},
          "execution_count": 179
        }
      ]
    },
    {
      "cell_type": "code",
      "source": [
        "# df = df.drop(['Unnamed: 0','radius','region','set'] , axis = 1)\n",
        "# dataset = df.values\n",
        "# dataset\n",
        "# \n",
        "# Y = dataset[: , 3]\n",
        "# df = df.drop(['NNA1', 'NNA2', 'NNA3', 'NNA4', 'NNA5', 'NNA6','M_pri','S_11','S_22','S_33','S_12'] , axis = 1)\n",
        "# df = df.drop(['M_pri','S_11','S_22','S_33','S_12'] , axis = 1)\n",
        "# dataset = df.values\n",
        "# X= dataset[:,:]"
      ],
      "metadata": {
        "id": "e3owHYIwDRtl"
      },
      "execution_count": null,
      "outputs": []
    },
    {
      "cell_type": "code",
      "source": [
        "from sklearn.model_selection import train_test_split\n",
        "X_train, X_test, Y_train, Y_test = train_test_split(X, Y, test_size=0.2)"
      ],
      "metadata": {
        "id": "Gnfd6lYeB28N"
      },
      "execution_count": null,
      "outputs": []
    },
    {
      "cell_type": "code",
      "source": [
        "from sklearn.preprocessing import StandardScaler\n",
        "s_scaler = StandardScaler()\n",
        "X_train = s_scaler.fit_transform(X_train.astype(np.float))\n",
        "X_test = s_scaler.transform(X_test.astype(np.float))\n",
        "Y_test = StandardScaler().fit_transform(Y_test.reshape(len(Y_test),1))[:,0]\n",
        "Y_train = StandardScaler().fit_transform(Y_train.reshape(len(Y_train),1))[:,0]"
      ],
      "metadata": {
        "id": "YuuhmeyVB_dF",
        "colab": {
          "base_uri": "https://localhost:8080/"
        },
        "outputId": "916ee67f-627d-4d98-fac4-05492a7b73ea"
      },
      "execution_count": null,
      "outputs": [
        {
          "output_type": "stream",
          "name": "stderr",
          "text": [
            "`np.float` is a deprecated alias for the builtin `float`. To silence this warning, use `float` by itself. Doing this will not modify any behavior and is safe. If you specifically wanted the numpy scalar type, use `np.float64` here.\n",
            "Deprecated in NumPy 1.20; for more details and guidance: https://numpy.org/devdocs/release/1.20.0-notes.html#deprecations\n",
            "`np.float` is a deprecated alias for the builtin `float`. To silence this warning, use `float` by itself. Doing this will not modify any behavior and is safe. If you specifically wanted the numpy scalar type, use `np.float64` here.\n",
            "Deprecated in NumPy 1.20; for more details and guidance: https://numpy.org/devdocs/release/1.20.0-notes.html#deprecations\n"
          ]
        }
      ]
    },
    {
      "cell_type": "code",
      "source": [
        " from sklearn.ensemble import RandomForestRegressor\n",
        "\n",
        " model = RandomForestRegressor(random_state = 1)\n",
        " model.fit(X_train , Y_train)\n",
        " pred =  model.predict(X_test)\n",
        " \n",
        " from sklearn.metrics import mean_squared_error\n",
        " mse = mean_squared_error(Y_test , pred)\n",
        "\n",
        " mse"
      ],
      "metadata": {
        "id": "cRMN_wcDCDv9",
        "colab": {
          "base_uri": "https://localhost:8080/"
        },
        "outputId": "9673aa77-cd5e-4a22-9cbf-7353242e3a2a"
      },
      "execution_count": null,
      "outputs": [
        {
          "output_type": "execute_result",
          "data": {
            "text/plain": [
              "0.28132923468927934"
            ]
          },
          "metadata": {},
          "execution_count": 183
        }
      ]
    },
    {
      "cell_type": "code",
      "source": [
        "Y_pred = model.predict(X_test)\n",
        "from sklearn import metrics\n",
        "print('MAE:', metrics.mean_absolute_error(Y_test, Y_pred))  \n",
        "#print('MSE:', metrics.mean_squared_error(y_test, y_pred))  \n",
        "# print('RMSE:', np.sqrt(metrics.mean_squared_error(y_test, y_pred)))\n",
        "# print('VarScore:',metrics.explained_variance_score(y_test,y_pred))\n",
        "# Visualizing Our predictions\n",
        "fig = plt.figure(figsize=(10,5))\n",
        "plt.scatter(Y_test,Y_pred)\n",
        "# Perfect predictions\n",
        "plt.plot(Y_test,Y_test,'r')\n"
      ],
      "metadata": {
        "id": "fo0OUs2FCHKu",
        "colab": {
          "base_uri": "https://localhost:8080/",
          "height": 358
        },
        "outputId": "88f217eb-3447-42d6-e856-978dfa3077b0"
      },
      "execution_count": null,
      "outputs": [
        {
          "output_type": "stream",
          "name": "stdout",
          "text": [
            "MAE: 0.3957101324221933\n"
          ]
        },
        {
          "output_type": "execute_result",
          "data": {
            "text/plain": [
              "[<matplotlib.lines.Line2D at 0x7f07b050ec50>]"
            ]
          },
          "metadata": {},
          "execution_count": 184
        },
        {
          "output_type": "display_data",
          "data": {
            "text/plain": [
              "<Figure size 720x360 with 1 Axes>"
            ],
            "image/png": "[encoded data removed]"
          },
          "metadata": {
            "needs_background": "light"
          }
        }
      ]
    },
    {
      "cell_type": "code",
      "source": [
        "from sklearn.metrics import r2_score\n",
        "r2_score(Y_test, Y_pred)"
      ],
      "metadata": {
        "id": "ZZuzR13QCMLO",
        "colab": {
          "base_uri": "https://localhost:8080/"
        },
        "outputId": "97224a17-c4fe-4656-c5b1-510723ae78dd"
      },
      "execution_count": null,
      "outputs": [
        {
          "output_type": "execute_result",
          "data": {
            "text/plain": [
              "0.7186707653107207"
            ]
          },
          "metadata": {},
          "execution_count": 185
        }
      ]
    }
  ]
}