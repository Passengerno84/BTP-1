{
  "cells": [
    {
      "cell_type": "code",
      "execution_count": null,
      "metadata": {
        "id": "O_6oV2XiMMys"
      },
      "outputs": [],
      "source": [
        "import pandas as pd\n",
        "import numpy as np\n",
        "import sys\n",
        "import os\n",
        "from openpyxl import load_workbook\n",
        "import scipy.spatial\n",
        "import math\n",
        "from google.colab import files\n",
        "import matplotlib.pyplot as plt\n"
      ]
    },
    {
      "cell_type": "code",
      "execution_count": null,
      "metadata": {
        "id": "wVVXQGOfQBg4"
      },
      "outputs": [],
      "source": [
        "# !apt install unzip\n",
        "# !unzip  v50train.zip"
      ]
    },
    {
      "cell_type": "code",
      "execution_count": null,
      "metadata": {
        "colab": {
          "base_uri": "https://localhost:8080/"
        },
        "id": "8plIERh1QWlu",
        "outputId": "5f301091-3c64-448a-825a-89c664024ecd"
      },
      "outputs": [
        {
          "output_type": "execute_result",
          "data": {
            "text/plain": [
              "['random_040_stress_absolute_49.xlsx',\n",
              " 'random_040_stress_absolute_45.xlsx',\n",
              " 'random_040_stress_absolute_22.xlsx',\n",
              " 'random_040_stress_absolute_23.xlsx',\n",
              " 'random_040_stress_absolute_1.xlsx',\n",
              " 'random_040_stress_absolute_31.xlsx',\n",
              " 'random_040_stress_absolute_8.xlsx',\n",
              " 'random_040_stress_absolute_3.xlsx',\n",
              " 'random_040_stress_absolute_47.xlsx',\n",
              " 'random_040_stress_absolute_29.xlsx',\n",
              " 'random_040_stress_absolute_41.xlsx',\n",
              " 'random_040_stress_absolute_15.xlsx',\n",
              " 'random_040_stress_absolute_14.xlsx',\n",
              " 'random_040_stress_absolute_11.xlsx',\n",
              " 'random_040_stress_absolute_16.xlsx',\n",
              " 'random_040_stress_absolute_5.xlsx',\n",
              " 'random_040_stress_absolute_7.xlsx',\n",
              " 'random_040_stress_absolute_4.xlsx',\n",
              " 'random_040_stress_absolute_38.xlsx',\n",
              " 'random_040_stress_absolute_24.xlsx',\n",
              " 'random_040_stress_absolute_10.xlsx',\n",
              " 'random_040_stress_absolute_18.xlsx',\n",
              " 'random_040_stress_absolute_2.xlsx',\n",
              " 'random_040_stress_absolute_27.xlsx',\n",
              " 'random_040_stress_absolute_32.xlsx',\n",
              " 'random_040_stress_absolute_26.xlsx',\n",
              " 'random_040_stress_absolute_20.xlsx',\n",
              " 'random_040_stress_absolute_46.xlsx',\n",
              " 'random_040_stress_absolute_33.xlsx',\n",
              " 'random_040_stress_absolute_28.xlsx',\n",
              " 'random_040_stress_absolute_36.xlsx',\n",
              " 'random_040_stress_absolute_40.xlsx',\n",
              " 'random_040_stress_absolute_35.xlsx',\n",
              " 'random_040_stress_absolute_48.xlsx',\n",
              " 'random_040_stress_absolute_50.xlsx',\n",
              " 'random_040_stress_absolute_12.xlsx',\n",
              " 'random_040_stress_absolute_37.xlsx',\n",
              " 'random_040_stress_absolute_19.xlsx',\n",
              " 'random_040_stress_absolute_39.xlsx',\n",
              " 'random_040_stress_absolute_6.xlsx',\n",
              " 'random_040_stress_absolute_17.xlsx',\n",
              " 'random_040_stress_absolute_13.xlsx',\n",
              " 'random_040_stress_absolute_9.xlsx',\n",
              " 'random_040_stress_absolute_42.xlsx',\n",
              " 'random_040_stress_absolute_30.xlsx',\n",
              " 'random_040_stress_absolute_43.xlsx',\n",
              " 'random_040_stress_absolute_25.xlsx',\n",
              " 'random_040_stress_absolute_34.xlsx',\n",
              " 'random_040_stress_absolute_21.xlsx',\n",
              " 'random_040_stress_absolute_44.xlsx']"
            ]
          },
          "metadata": {},
          "execution_count": 2
        }
      ],
      "source": [
        "path = os.getcwd()\n",
        "files = os.listdir('/content/v40train')\n",
        "files"
      ]
    },
    {
      "cell_type": "markdown",
      "source": [
        "New Feature Addition"
      ],
      "metadata": {
        "id": "kqbJfzRFfNUC"
      }
    },
    {
      "cell_type": "code",
      "execution_count": null,
      "metadata": {
        "id": "THPThxy_RC02"
      },
      "outputs": [],
      "source": [
        "for f in files:\n",
        "  path = '/content/v40train/' + f\n",
        "  df = pd.read_excel(path)\n",
        "  x = df['X_coord'].to_numpy()\n",
        "  y = df['Y_coord'].to_numpy()\n",
        "  dist = []\n",
        "  x1 = []\n",
        "  y1 = []\n",
        "  c_min= 0\n",
        "  for row in range(len(x)):\n",
        "    a = []\n",
        "    mind = sys.maxsize\n",
        "    for column in range(len(x)):\n",
        "        d  = (x[row]-x[column])**2 + (y[row]-y[column])**2;\n",
        "        d = math.sqrt(d)\n",
        "        if(d<mind and column != row):\n",
        "          mind = d\n",
        "          c_min = column\n",
        "        a.append(d)\n",
        "    x1.append(x[c_min])\n",
        "    y1.append(y[c_min])\n",
        "    dist.append(a)\n",
        "  df['x1'] = x1\n",
        "  df['y1'] = y1\n",
        "  op = '/content/output/'+f\n",
        "  df.to_excel(op)\n"
      ]
    },
    {
      "cell_type": "markdown",
      "source": [
        "Merge and Zip the Excel Files "
      ],
      "metadata": {
        "id": "pJnBpzeBfVe5"
      }
    },
    {
      "cell_type": "code",
      "execution_count": null,
      "metadata": {
        "colab": {
          "base_uri": "https://localhost:8080/",
          "height": 356
        },
        "id": "16-hFyl0YxhB",
        "outputId": "5849a36f-a241-42b4-ab18-90275c37bd73"
      },
      "outputs": [
        {
          "output_type": "error",
          "ename": "FileNotFoundError",
          "evalue": "ignored",
          "traceback": [
            "\u001b[0;31m---------------------------------------------------------------------------\u001b[0m",
            "\u001b[0;31mFileNotFoundError\u001b[0m                         Traceback (most recent call last)",
            "\u001b[0;32m<ipython-input-17-817ab2ba7327>\u001b[0m in \u001b[0;36m<module>\u001b[0;34m\u001b[0m\n\u001b[1;32m      2\u001b[0m \u001b[0mfile_name\u001b[0m \u001b[0;34m=\u001b[0m \u001b[0;34m'/content/v50train.zip'\u001b[0m\u001b[0;34m\u001b[0m\u001b[0;34m\u001b[0m\u001b[0m\n\u001b[1;32m      3\u001b[0m \u001b[0;34m\u001b[0m\u001b[0m\n\u001b[0;32m----> 4\u001b[0;31m \u001b[0;32mwith\u001b[0m \u001b[0mZipFile\u001b[0m\u001b[0;34m(\u001b[0m\u001b[0mfile_name\u001b[0m\u001b[0;34m,\u001b[0m \u001b[0;34m'r'\u001b[0m\u001b[0;34m)\u001b[0m \u001b[0;32mas\u001b[0m \u001b[0mzip\u001b[0m\u001b[0;34m:\u001b[0m\u001b[0;34m\u001b[0m\u001b[0;34m\u001b[0m\u001b[0m\n\u001b[0m\u001b[1;32m      5\u001b[0m   \u001b[0mzip\u001b[0m\u001b[0;34m.\u001b[0m\u001b[0mextractall\u001b[0m\u001b[0;34m(\u001b[0m\u001b[0;34m)\u001b[0m\u001b[0;34m\u001b[0m\u001b[0;34m\u001b[0m\u001b[0m\n\u001b[1;32m      6\u001b[0m   \u001b[0mprint\u001b[0m\u001b[0;34m(\u001b[0m\u001b[0;34m'Done'\u001b[0m\u001b[0;34m)\u001b[0m\u001b[0;34m\u001b[0m\u001b[0;34m\u001b[0m\u001b[0m\n",
            "\u001b[0;32m/usr/lib/python3.7/zipfile.py\u001b[0m in \u001b[0;36m__init__\u001b[0;34m(self, file, mode, compression, allowZip64, compresslevel)\u001b[0m\n\u001b[1;32m   1238\u001b[0m             \u001b[0;32mwhile\u001b[0m \u001b[0;32mTrue\u001b[0m\u001b[0;34m:\u001b[0m\u001b[0;34m\u001b[0m\u001b[0;34m\u001b[0m\u001b[0m\n\u001b[1;32m   1239\u001b[0m                 \u001b[0;32mtry\u001b[0m\u001b[0;34m:\u001b[0m\u001b[0;34m\u001b[0m\u001b[0;34m\u001b[0m\u001b[0m\n\u001b[0;32m-> 1240\u001b[0;31m                     \u001b[0mself\u001b[0m\u001b[0;34m.\u001b[0m\u001b[0mfp\u001b[0m \u001b[0;34m=\u001b[0m \u001b[0mio\u001b[0m\u001b[0;34m.\u001b[0m\u001b[0mopen\u001b[0m\u001b[0;34m(\u001b[0m\u001b[0mfile\u001b[0m\u001b[0;34m,\u001b[0m \u001b[0mfilemode\u001b[0m\u001b[0;34m)\u001b[0m\u001b[0;34m\u001b[0m\u001b[0;34m\u001b[0m\u001b[0m\n\u001b[0m\u001b[1;32m   1241\u001b[0m                 \u001b[0;32mexcept\u001b[0m \u001b[0mOSError\u001b[0m\u001b[0;34m:\u001b[0m\u001b[0;34m\u001b[0m\u001b[0;34m\u001b[0m\u001b[0m\n\u001b[1;32m   1242\u001b[0m                     \u001b[0;32mif\u001b[0m \u001b[0mfilemode\u001b[0m \u001b[0;32min\u001b[0m \u001b[0mmodeDict\u001b[0m\u001b[0;34m:\u001b[0m\u001b[0;34m\u001b[0m\u001b[0;34m\u001b[0m\u001b[0m\n",
            "\u001b[0;31mFileNotFoundError\u001b[0m: [Errno 2] No such file or directory: '/content/v50train.zip'"
          ]
        }
      ],
      "source": [
        "from zipfile import ZipFile\n",
        "file_name = '/content/v50train.zip'\n",
        "\n",
        "with ZipFile(file_name, 'r') as zip:\n",
        "  zip.extractall()\n",
        "  print('Done')"
      ]
    },
    {
      "cell_type": "code",
      "execution_count": null,
      "metadata": {
        "id": "WhhKqrkePKz4"
      },
      "outputs": [],
      "source": [
        "!zip -r output22.zip /content/output"
      ]
    },
    {
      "cell_type": "code",
      "execution_count": null,
      "metadata": {
        "id": "jPJF_5N0f76l"
      },
      "outputs": [],
      "source": [
        "import glob\n",
        "import pandas as pd\n",
        " \n",
        "\n",
        "path = \"/content/output\"\n",
        " \n",
        "# csv files in the path\n",
        "file_list = glob.glob(path + \"/*.xlsx\")\n",
        " \n",
        "# list of excel files we want to merge.\n",
        "# pd.read_excel(file_path) reads the excel\n",
        "# data into pandas dataframe.\n",
        "excl_list = []\n",
        " \n",
        "for file in file_list:\n",
        "    excl_list.append(pd.read_excel(file))\n",
        " \n",
        "# create a new dataframe to store the\n",
        "# merged excel file.\n",
        "excl_merged = pd.DataFrame()\n",
        " \n",
        "for excl_file in excl_list:\n",
        "     \n",
        "    # appends the data into the excl_merged\n",
        "    # dataframe.\n",
        "    excl_merged = excl_merged.append(\n",
        "      excl_file, ignore_index=True)\n",
        " \n",
        "# exports the dataframe into excel file with\n",
        "# specified name.\n",
        "excl_merged.to_excel('marged_vf50.xlsx', index=False)"
      ]
    }
  ],
  "metadata": {
    "colab": {
      "provenance": []
    },
    "kernelspec": {
      "display_name": "Python 3",
      "name": "python3"
    },
    "language_info": {
      "name": "python"
    }
  },
  "nbformat": 4,
  "nbformat_minor": 0
}