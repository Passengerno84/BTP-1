{
  "nbformat": 4,
  "nbformat_minor": 0,
  "metadata": {
    "colab": {
      "provenance": []
    },
    "kernelspec": {
      "name": "python3",
      "display_name": "Python 3"
    },
    "language_info": {
      "name": "python"
    }
  },
  "cells": [
    {
      "cell_type": "code",
      "execution_count": null,
      "metadata": {
        "id": "LG9eMvmgLi0B"
      },
      "outputs": [],
      "source": [
        "import pandas as pd\n",
        "import numpy as np\n",
        "import sys\n",
        "import os\n",
        "from openpyxl import load_workbook\n",
        "import scipy.spatial\n",
        "import math\n",
        "from google.colab import files\n",
        "import matplotlib.pyplot as plt"
      ]
    },
    {
      "cell_type": "code",
      "source": [
        "df = pd.read_excel('/content/marged_vf50_new_fine.xlsx')"
      ],
      "metadata": {
        "id": "nC6Q4GCFMR6_"
      },
      "execution_count": null,
      "outputs": []
    },
    {
      "cell_type": "code",
      "source": [
        "df.head()"
      ],
      "metadata": {
        "colab": {
          "base_uri": "https://localhost:8080/",
          "height": 288
        },
        "id": "QE75aDEUMR4s",
        "outputId": "29ecb2e2-d929-4a87-b732-e1167d43c25b"
      },
      "execution_count": null,
      "outputs": [
        {
          "output_type": "execute_result",
          "data": {
            "text/plain": [
              "   Unnamed: 0           x1           x2           x3           x4  \\\n",
              "0           0   765.271009   666.870681   722.410885   667.919567   \n",
              "1           1  2075.773702  2110.127022  2130.091560  2183.504359   \n",
              "2           2   655.102333   611.311029   815.309357   748.304981   \n",
              "3           3   231.356742    78.010319    63.377021   166.286520   \n",
              "4           4  3438.755882  3425.902416  3346.904098  3343.424495   \n",
              "\n",
              "            x5           x6           x7           x8           y1  \\\n",
              "0   805.445562   887.278939   633.752004   742.285757  1830.599870   \n",
              "1  2267.728348  2023.988573  2210.397745  1997.306689  1420.364109   \n",
              "2   745.501802   831.632011   538.147185   687.191953  2835.487109   \n",
              "3   228.818338   127.816732    -2.138147   302.676470  1737.093857   \n",
              "4  3476.514511  3389.877396  3479.513080  3266.567944  2675.692976   \n",
              "\n",
              "            y2           y3           y4           y5           y6  \\\n",
              "0  1933.275480  2012.918446  1841.599085  2012.654217  1923.997970   \n",
              "1  1534.803872  1356.222470  1574.123014  1461.665092  1523.451900   \n",
              "2  2951.149401  2908.051238  3016.444659  2791.120302  2990.302604   \n",
              "3  1676.685934  1777.174690  1832.280983  1639.310132  1580.922891   \n",
              "4  2843.918425  2698.649523  2802.818827  2558.189832  2583.889128   \n",
              "\n",
              "            y7           y8      X_coord      Y_coord      M_pri  \n",
              "0  2009.692051  1750.447278   747.762872  1910.918636  11.899739  \n",
              "1  1330.763839  1444.447757  2147.312089  1460.817004  13.164721  \n",
              "2  2841.587020  3088.366262   701.493258  2904.973001  10.571309  \n",
              "3  1719.708493  1778.908065   148.610916  1727.450524  19.470829  \n",
              "4  2949.296322  2734.150739  3490.474141  2741.386607  11.453999  "
            ],
            "text/html": [
              "\n",
              "  <div id=\"df-c33f454d-6de3-4cdf-b153-0a1c71154f9a\">\n",
              "    <div class=\"colab-df-container\">\n",
              "      <div>\n",
              "<style scoped>\n",
              "    .dataframe tbody tr th:only-of-type {\n",
              "        vertical-align: middle;\n",
              "    }\n",
              "\n",
              "    .dataframe tbody tr th {\n",
              "        vertical-align: top;\n",
              "    }\n",
              "\n",
              "    .dataframe thead th {\n",
              "        text-align: right;\n",
              "    }\n",
              "</style>\n",
              "<table border=\"1\" class=\"dataframe\">\n",
              "  <thead>\n",
              "    <tr style=\"text-align: right;\">\n",
              "      <th></th>\n",
              "      <th>Unnamed: 0</th>\n",
              "      <th>x1</th>\n",
              "      <th>x2</th>\n",
              "      <th>x3</th>\n",
              "      <th>x4</th>\n",
              "      <th>x5</th>\n",
              "      <th>x6</th>\n",
              "      <th>x7</th>\n",
              "      <th>x8</th>\n",
              "      <th>y1</th>\n",
              "      <th>y2</th>\n",
              "      <th>y3</th>\n",
              "      <th>y4</th>\n",
              "      <th>y5</th>\n",
              "      <th>y6</th>\n",
              "      <th>y7</th>\n",
              "      <th>y8</th>\n",
              "      <th>X_coord</th>\n",
              "      <th>Y_coord</th>\n",
              "      <th>M_pri</th>\n",
              "    </tr>\n",
              "  </thead>\n",
              "  <tbody>\n",
              "    <tr>\n",
              "      <th>0</th>\n",
              "      <td>0</td>\n",
              "      <td>765.271009</td>\n",
              "      <td>666.870681</td>\n",
              "      <td>722.410885</td>\n",
              "      <td>667.919567</td>\n",
              "      <td>805.445562</td>\n",
              "      <td>887.278939</td>\n",
              "      <td>633.752004</td>\n",
              "      <td>742.285757</td>\n",
              "      <td>1830.599870</td>\n",
              "      <td>1933.275480</td>\n",
              "      <td>2012.918446</td>\n",
              "      <td>1841.599085</td>\n",
              "      <td>2012.654217</td>\n",
              "      <td>1923.997970</td>\n",
              "      <td>2009.692051</td>\n",
              "      <td>1750.447278</td>\n",
              "      <td>747.762872</td>\n",
              "      <td>1910.918636</td>\n",
              "      <td>11.899739</td>\n",
              "    </tr>\n",
              "    <tr>\n",
              "      <th>1</th>\n",
              "      <td>1</td>\n",
              "      <td>2075.773702</td>\n",
              "      <td>2110.127022</td>\n",
              "      <td>2130.091560</td>\n",
              "      <td>2183.504359</td>\n",
              "      <td>2267.728348</td>\n",
              "      <td>2023.988573</td>\n",
              "      <td>2210.397745</td>\n",
              "      <td>1997.306689</td>\n",
              "      <td>1420.364109</td>\n",
              "      <td>1534.803872</td>\n",
              "      <td>1356.222470</td>\n",
              "      <td>1574.123014</td>\n",
              "      <td>1461.665092</td>\n",
              "      <td>1523.451900</td>\n",
              "      <td>1330.763839</td>\n",
              "      <td>1444.447757</td>\n",
              "      <td>2147.312089</td>\n",
              "      <td>1460.817004</td>\n",
              "      <td>13.164721</td>\n",
              "    </tr>\n",
              "    <tr>\n",
              "      <th>2</th>\n",
              "      <td>2</td>\n",
              "      <td>655.102333</td>\n",
              "      <td>611.311029</td>\n",
              "      <td>815.309357</td>\n",
              "      <td>748.304981</td>\n",
              "      <td>745.501802</td>\n",
              "      <td>831.632011</td>\n",
              "      <td>538.147185</td>\n",
              "      <td>687.191953</td>\n",
              "      <td>2835.487109</td>\n",
              "      <td>2951.149401</td>\n",
              "      <td>2908.051238</td>\n",
              "      <td>3016.444659</td>\n",
              "      <td>2791.120302</td>\n",
              "      <td>2990.302604</td>\n",
              "      <td>2841.587020</td>\n",
              "      <td>3088.366262</td>\n",
              "      <td>701.493258</td>\n",
              "      <td>2904.973001</td>\n",
              "      <td>10.571309</td>\n",
              "    </tr>\n",
              "    <tr>\n",
              "      <th>3</th>\n",
              "      <td>3</td>\n",
              "      <td>231.356742</td>\n",
              "      <td>78.010319</td>\n",
              "      <td>63.377021</td>\n",
              "      <td>166.286520</td>\n",
              "      <td>228.818338</td>\n",
              "      <td>127.816732</td>\n",
              "      <td>-2.138147</td>\n",
              "      <td>302.676470</td>\n",
              "      <td>1737.093857</td>\n",
              "      <td>1676.685934</td>\n",
              "      <td>1777.174690</td>\n",
              "      <td>1832.280983</td>\n",
              "      <td>1639.310132</td>\n",
              "      <td>1580.922891</td>\n",
              "      <td>1719.708493</td>\n",
              "      <td>1778.908065</td>\n",
              "      <td>148.610916</td>\n",
              "      <td>1727.450524</td>\n",
              "      <td>19.470829</td>\n",
              "    </tr>\n",
              "    <tr>\n",
              "      <th>4</th>\n",
              "      <td>4</td>\n",
              "      <td>3438.755882</td>\n",
              "      <td>3425.902416</td>\n",
              "      <td>3346.904098</td>\n",
              "      <td>3343.424495</td>\n",
              "      <td>3476.514511</td>\n",
              "      <td>3389.877396</td>\n",
              "      <td>3479.513080</td>\n",
              "      <td>3266.567944</td>\n",
              "      <td>2675.692976</td>\n",
              "      <td>2843.918425</td>\n",
              "      <td>2698.649523</td>\n",
              "      <td>2802.818827</td>\n",
              "      <td>2558.189832</td>\n",
              "      <td>2583.889128</td>\n",
              "      <td>2949.296322</td>\n",
              "      <td>2734.150739</td>\n",
              "      <td>3490.474141</td>\n",
              "      <td>2741.386607</td>\n",
              "      <td>11.453999</td>\n",
              "    </tr>\n",
              "  </tbody>\n",
              "</table>\n",
              "</div>\n",
              "      <button class=\"colab-df-convert\" onclick=\"convertToInteractive('df-c33f454d-6de3-4cdf-b153-0a1c71154f9a')\"\n",
              "              title=\"Convert this dataframe to an interactive table.\"\n",
              "              style=\"display:none;\">\n",
              "        \n",
              "  <svg xmlns=\"http://www.w3.org/2000/svg\" height=\"24px\"viewBox=\"0 0 24 24\"\n",
              "       width=\"24px\">\n",
              "    <path d=\"M0 0h24v24H0V0z\" fill=\"none\"/>\n",
              "    <path d=\"M18.56 5.44l.94 2.06.94-2.06 2.06-.94-2.06-.94-.94-2.06-.94 2.06-2.06.94zm-11 1L8.5 8.5l.94-2.06 2.06-.94-2.06-.94L8.5 2.5l-.94 2.06-2.06.94zm10 10l.94 2.06.94-2.06 2.06-.94-2.06-.94-.94-2.06-.94 2.06-2.06.94z\"/><path d=\"M17.41 7.96l-1.37-1.37c-.4-.4-.92-.59-1.43-.59-.52 0-1.04.2-1.43.59L10.3 9.45l-7.72 7.72c-.78.78-.78 2.05 0 2.83L4 21.41c.39.39.9.59 1.41.59.51 0 1.02-.2 1.41-.59l7.78-7.78 2.81-2.81c.8-.78.8-2.07 0-2.86zM5.41 20L4 18.59l7.72-7.72 1.47 1.35L5.41 20z\"/>\n",
              "  </svg>\n",
              "      </button>\n",
              "      \n",
              "  <style>\n",
              "    .colab-df-container {\n",
              "      display:flex;\n",
              "      flex-wrap:wrap;\n",
              "      gap: 12px;\n",
              "    }\n",
              "\n",
              "    .colab-df-convert {\n",
              "      background-color: #E8F0FE;\n",
              "      border: none;\n",
              "      border-radius: 50%;\n",
              "      cursor: pointer;\n",
              "      display: none;\n",
              "      fill: #1967D2;\n",
              "      height: 32px;\n",
              "      padding: 0 0 0 0;\n",
              "      width: 32px;\n",
              "    }\n",
              "\n",
              "    .colab-df-convert:hover {\n",
              "      background-color: #E2EBFA;\n",
              "      box-shadow: 0px 1px 2px rgba(60, 64, 67, 0.3), 0px 1px 3px 1px rgba(60, 64, 67, 0.15);\n",
              "      fill: #174EA6;\n",
              "    }\n",
              "\n",
              "    [theme=dark] .colab-df-convert {\n",
              "      background-color: #3B4455;\n",
              "      fill: #D2E3FC;\n",
              "    }\n",
              "\n",
              "    [theme=dark] .colab-df-convert:hover {\n",
              "      background-color: #434B5C;\n",
              "      box-shadow: 0px 1px 3px 1px rgba(0, 0, 0, 0.15);\n",
              "      filter: drop-shadow(0px 1px 2px rgba(0, 0, 0, 0.3));\n",
              "      fill: #FFFFFF;\n",
              "    }\n",
              "  </style>\n",
              "\n",
              "      <script>\n",
              "        const buttonEl =\n",
              "          document.querySelector('#df-c33f454d-6de3-4cdf-b153-0a1c71154f9a button.colab-df-convert');\n",
              "        buttonEl.style.display =\n",
              "          google.colab.kernel.accessAllowed ? 'block' : 'none';\n",
              "\n",
              "        async function convertToInteractive(key) {\n",
              "          const element = document.querySelector('#df-c33f454d-6de3-4cdf-b153-0a1c71154f9a');\n",
              "          const dataTable =\n",
              "            await google.colab.kernel.invokeFunction('convertToInteractive',\n",
              "                                                     [key], {});\n",
              "          if (!dataTable) return;\n",
              "\n",
              "          const docLinkHtml = 'Like what you see? Visit the ' +\n",
              "            '<a target=\"_blank\" href=https://colab.research.google.com/notebooks/data_table.ipynb>data table notebook</a>'\n",
              "            + ' to learn more about interactive tables.';\n",
              "          element.innerHTML = '';\n",
              "          dataTable['output_type'] = 'display_data';\n",
              "          await google.colab.output.renderOutput(dataTable, element);\n",
              "          const docLink = document.createElement('div');\n",
              "          docLink.innerHTML = docLinkHtml;\n",
              "          element.appendChild(docLink);\n",
              "        }\n",
              "      </script>\n",
              "    </div>\n",
              "  </div>\n",
              "  "
            ]
          },
          "metadata": {},
          "execution_count": 283
        }
      ]
    },
    {
      "cell_type": "code",
      "source": [
        "df.shape"
      ],
      "metadata": {
        "colab": {
          "base_uri": "https://localhost:8080/"
        },
        "id": "5_voyhGHMR25",
        "outputId": "dfa6e3c3-c25a-4646-c034-16369f2aff9e"
      },
      "execution_count": null,
      "outputs": [
        {
          "output_type": "execute_result",
          "data": {
            "text/plain": [
              "(63667, 20)"
            ]
          },
          "metadata": {},
          "execution_count": 284
        }
      ]
    },
    {
      "cell_type": "code",
      "source": [
        "df.columns"
      ],
      "metadata": {
        "colab": {
          "base_uri": "https://localhost:8080/"
        },
        "id": "xsD_Oqz2MR0J",
        "outputId": "e327d378-2060-4206-d67e-67adb09f8484"
      },
      "execution_count": null,
      "outputs": [
        {
          "output_type": "execute_result",
          "data": {
            "text/plain": [
              "Index(['Unnamed: 0', 'x1', 'x2', 'x3', 'x4', 'x5', 'x6', 'x7', 'x8', 'y1',\n",
              "       'y2', 'y3', 'y4', 'y5', 'y6', 'y7', 'y8', 'X_coord', 'Y_coord',\n",
              "       'M_pri'],\n",
              "      dtype='object')"
            ]
          },
          "metadata": {},
          "execution_count": 285
        }
      ]
    },
    {
      "cell_type": "markdown",
      "source": [
        "Feature Dropping"
      ],
      "metadata": {
        "id": "Z_ijcyQLdr_l"
      }
    },
    {
      "cell_type": "code",
      "source": [
        "df = df.drop(['Unnamed: 0'] , axis = 1)\n",
        "dataset = df.values\n",
        "dataset\n",
        "\n",
        "Y = dataset[: , 18]\n",
        "\n",
        "df = df.drop(['M_pri','x5', 'x6', 'x7', 'x8','y5', 'y6', 'y7', 'y8'],axis=1)\n",
        "df.columns\n",
        "dataset = df.values\n",
        "X= dataset[:,:]"
      ],
      "metadata": {
        "id": "zi6k38cnMRxt"
      },
      "execution_count": null,
      "outputs": []
    },
    {
      "cell_type": "markdown",
      "source": [
        "Train Test Split"
      ],
      "metadata": {
        "id": "epis-cAedue9"
      }
    },
    {
      "cell_type": "code",
      "source": [
        "from sklearn.model_selection import train_test_split\n",
        "X_train, X_test, Y_train, Y_test = train_test_split(X, Y, test_size=0.2)"
      ],
      "metadata": {
        "id": "1I4AobOaMRvF"
      },
      "execution_count": null,
      "outputs": []
    },
    {
      "cell_type": "code",
      "source": [
        "from sklearn.preprocessing import StandardScaler\n",
        "s_scaler = StandardScaler()\n",
        "X_train = s_scaler.fit_transform(X_train.astype(np.float))\n",
        "X_test = s_scaler.transform(X_test.astype(np.float))\n",
        "Y_test = StandardScaler().fit_transform(Y_test.reshape(len(Y_test),1))[:,0]\n",
        "Y_train = StandardScaler().fit_transform(Y_train.reshape(len(Y_train),1))[:,0]"
      ],
      "metadata": {
        "colab": {
          "base_uri": "https://localhost:8080/"
        },
        "id": "vjHBm0P1MRsu",
        "outputId": "b07bc323-e962-4a8b-d6c0-045debb10578"
      },
      "execution_count": null,
      "outputs": [
        {
          "output_type": "stream",
          "name": "stderr",
          "text": [
            "/usr/local/lib/python3.7/dist-packages/ipykernel_launcher.py:3: DeprecationWarning: `np.float` is a deprecated alias for the builtin `float`. To silence this warning, use `float` by itself. Doing this will not modify any behavior and is safe. If you specifically wanted the numpy scalar type, use `np.float64` here.\n",
            "Deprecated in NumPy 1.20; for more details and guidance: https://numpy.org/devdocs/release/1.20.0-notes.html#deprecations\n",
            "  This is separate from the ipykernel package so we can avoid doing imports until\n",
            "/usr/local/lib/python3.7/dist-packages/ipykernel_launcher.py:4: DeprecationWarning: `np.float` is a deprecated alias for the builtin `float`. To silence this warning, use `float` by itself. Doing this will not modify any behavior and is safe. If you specifically wanted the numpy scalar type, use `np.float64` here.\n",
            "Deprecated in NumPy 1.20; for more details and guidance: https://numpy.org/devdocs/release/1.20.0-notes.html#deprecations\n",
            "  after removing the cwd from sys.path.\n"
          ]
        }
      ]
    },
    {
      "cell_type": "markdown",
      "source": [
        "XGBoost"
      ],
      "metadata": {
        "id": "wH9At61peYJ1"
      }
    },
    {
      "cell_type": "code",
      "source": [
        "import xgboost as xgb"
      ],
      "metadata": {
        "id": "5Y5iFrCAMwb_"
      },
      "execution_count": null,
      "outputs": []
    },
    {
      "cell_type": "code",
      "source": [
        "regressor=xgb.XGBRegressor(learning_rate = 0.015,\n",
        "                           n_estimators  =500,\n",
        "                           max_depth     = 7)\n",
        "\n",
        "regressor.fit(X_train, Y_train)"
      ],
      "metadata": {
        "colab": {
          "base_uri": "https://localhost:8080/"
        },
        "id": "7PY8t5iVPUxv",
        "outputId": "c19813ab-5734-4078-8262-0cb239b3847d"
      },
      "execution_count": null,
      "outputs": [
        {
          "output_type": "stream",
          "name": "stdout",
          "text": [
            "[21:44:10] WARNING: /workspace/src/objective/regression_obj.cu:152: reg:linear is now deprecated in favor of reg:squarederror.\n"
          ]
        },
        {
          "output_type": "execute_result",
          "data": {
            "text/plain": [
              "XGBRegressor(learning_rate=0.015, max_depth=7, n_estimators=500)"
            ]
          },
          "metadata": {},
          "execution_count": 290
        }
      ]
    },
    {
      "cell_type": "code",
      "source": [
        "predictions = regressor.predict(X_test)"
      ],
      "metadata": {
        "id": "cfvUt_0XNObs"
      },
      "execution_count": null,
      "outputs": []
    },
    {
      "cell_type": "code",
      "source": [
        "Y_pred = regressor.predict(X_test)\n",
        "from sklearn import metrics\n",
        "print('MAE:', metrics.mean_absolute_error(Y_test, Y_pred))  \n",
        "#print('MSE:', metrics.mean_squared_error(y_test, y_pred))  \n",
        "# print('RMSE:', np.sqrt(metrics.mean_squared_error(y_test, y_pred)))\n",
        "# print('VarScore:',metrics.explained_variance_score(y_test,y_pred))\n",
        "# Visualizing Our predictions\n",
        "fig = plt.figure(figsize=(10,5))\n",
        "plt.scatter(Y_test,Y_pred)\n",
        "# Perfect predictions\n",
        "plt.plot(Y_test,Y_test,'r')"
      ],
      "metadata": {
        "colab": {
          "base_uri": "https://localhost:8080/",
          "height": 376
        },
        "id": "uvdQOj_7MRnp",
        "outputId": "ffb72f18-0272-4c65-a46a-dcec0cd683fc"
      },
      "execution_count": null,
      "outputs": [
        {
          "output_type": "stream",
          "name": "stdout",
          "text": [
            "MAE: 0.7416053697859832\n"
          ]
        },
        {
          "output_type": "execute_result",
          "data": {
            "text/plain": [
              "[<matplotlib.lines.Line2D at 0x7f126e9806d0>]"
            ]
          },
          "metadata": {},
          "execution_count": 292
        },
        {
          "output_type": "display_data",
          "data": {
            "text/plain": [
              "<Figure size 720x360 with 1 Axes>"
            ],
            "image/png": "[encoded data removed]"
          },
          "metadata": {}
        }
      ]
    },
    {
      "cell_type": "code",
      "source": [
        "from sklearn.metrics import r2_score\n",
        "r2_score(Y_test, Y_pred)"
      ],
      "metadata": {
        "colab": {
          "base_uri": "https://localhost:8080/"
        },
        "id": "EebaSy90MRk5",
        "outputId": "3beaa4fc-d5c9-42af-80e9-97641efe33fc"
      },
      "execution_count": null,
      "outputs": [
        {
          "output_type": "execute_result",
          "data": {
            "text/plain": [
              "0.1403150904032786"
            ]
          },
          "metadata": {},
          "execution_count": 293
        }
      ]
    },
    {
      "cell_type": "markdown",
      "source": [
        "Fewature Importance"
      ],
      "metadata": {
        "id": "OFoB0ionebd1"
      }
    },
    {
      "cell_type": "code",
      "source": [
        "\n",
        "feature_names = [i for i in df.columns]\n",
        "feature_names=np.array(feature_names)"
      ],
      "metadata": {
        "id": "1bnRADUBNGBz"
      },
      "execution_count": null,
      "outputs": []
    },
    {
      "cell_type": "code",
      "source": [
        "from xgboost import plot_importance\n",
        "import matplotlib.pyplot as plt\n",
        "plt.style.use('fivethirtyeight')\n",
        "plt.rcParams.update({'font.size': 16})\n",
        "\n",
        "fig, ax = plt.subplots(figsize=(12,6))\n",
        "plot_importance(regressor, max_num_features=10, ax=ax)\n",
        "plt.show();"
      ],
      "metadata": {
        "colab": {
          "base_uri": "https://localhost:8080/",
          "height": 446
        },
        "id": "3sBRxgMCMRiP",
        "outputId": "7312fe14-5bb4-4989-ec51-3f94c38b4b8a"
      },
      "execution_count": null,
      "outputs": [
        {
          "output_type": "display_data",
          "data": {
            "text/plain": [
              "<Figure size 864x432 with 1 Axes>"
            ],
            "image/png": "[encoded data removed]"
          },
          "metadata": {}
        }
      ]
    },
    {
      "cell_type": "markdown",
      "source": [
        "Retrain The Model Using Useful Features"
      ],
      "metadata": {
        "id": "xzVWqYmQeuut"
      }
    },
    {
      "cell_type": "code",
      "source": [
        "df = pd.read_excel('/content/marged_vf40.xlsx')"
      ],
      "metadata": {
        "id": "tUw7o5-1MRCK"
      },
      "execution_count": null,
      "outputs": []
    },
    {
      "cell_type": "code",
      "source": [],
      "metadata": {
        "id": "eJRQu7Wn4e0y"
      },
      "execution_count": null,
      "outputs": []
    },
    {
      "cell_type": "code",
      "source": [
        "df = df.drop(['Unnamed: 0','radius','region','set'] , axis = 1)\n",
        "dataset = df.values\n",
        "dataset\n",
        "\n",
        "Y = dataset[: , 2]\n",
        "\n"
      ],
      "metadata": {
        "id": "dlBSJQiUMQ_5"
      },
      "execution_count": null,
      "outputs": []
    },
    {
      "cell_type": "code",
      "source": [
        "df.columns"
      ],
      "metadata": {
        "colab": {
          "base_uri": "https://localhost:8080/"
        },
        "id": "fP9PzJEy4gg5",
        "outputId": "cc9e38f4-ba57-4489-d310-4ace1ccca41b"
      },
      "execution_count": null,
      "outputs": [
        {
          "output_type": "execute_result",
          "data": {
            "text/plain": [
              "Index(['X_coord', 'Y_coord', 'M_pri', 'S_11', 'S_22', 'S_33', 'S_12', 'NNPA',\n",
              "       'NND1', 'NND2', 'NND3', 'NND4', 'NND5', 'NND6', 'NND7', 'NND8',\n",
              "       'AVG_NND2', 'AVG_NND4', 'AVG_NND6', 'AVG_NND8', 'NNA1', 'NNA2', 'VF_3R',\n",
              "       'VF_4R', 'NNA3', 'NNA4', 'NNA5', 'NNA6', 'NNA7', 'NNA8', 'vf_5r',\n",
              "       'vf_6r', 'vf_7r', 'vf_8r', 'x1', 'y1'],\n",
              "      dtype='object')"
            ]
          },
          "metadata": {},
          "execution_count": 302
        }
      ]
    },
    {
      "cell_type": "code",
      "source": [
        "df = df.drop(['M_pri','S_11','S_22','S_33','S_12'],axis=1)\n",
        "df.columns\n"
      ],
      "metadata": {
        "colab": {
          "base_uri": "https://localhost:8080/"
        },
        "id": "t9ebtfNE4jkD",
        "outputId": "d459ce47-fe30-445b-fb70-0d26f36c2cf9"
      },
      "execution_count": null,
      "outputs": [
        {
          "output_type": "execute_result",
          "data": {
            "text/plain": [
              "Index(['X_coord', 'Y_coord', 'NNPA', 'NND1', 'NND2', 'NND3', 'NND4', 'NND5',\n",
              "       'NND6', 'NND7', 'NND8', 'AVG_NND2', 'AVG_NND4', 'AVG_NND6', 'AVG_NND8',\n",
              "       'NNA1', 'NNA2', 'VF_3R', 'VF_4R', 'NNA3', 'NNA4', 'NNA5', 'NNA6',\n",
              "       'NNA7', 'NNA8', 'vf_5r', 'vf_6r', 'vf_7r', 'vf_8r', 'x1', 'y1'],\n",
              "      dtype='object')"
            ]
          },
          "metadata": {},
          "execution_count": 303
        }
      ]
    },
    {
      "cell_type": "code",
      "source": [
        "df = df.drop([ 'NND1', 'NND2', 'NND3','NND5','NND6', 'NND7', 'NND8', 'AVG_NND2', 'AVG_NND4', 'AVG_NND6', 'AVG_NND8','NNA3', 'NNA4','VF_3R','VF_4R', 'vf_5r', 'vf_6r', 'vf_7r', 'vf_8r','x1', 'y1' ],axis=1)\n",
        "dataset = df.values\n",
        "X= dataset[:,:]"
      ],
      "metadata": {
        "id": "5S3iFjW54pWp"
      },
      "execution_count": null,
      "outputs": []
    },
    {
      "cell_type": "code",
      "source": [
        "df.columns\n"
      ],
      "metadata": {
        "colab": {
          "base_uri": "https://localhost:8080/"
        },
        "id": "x7dMbo7Y5dV6",
        "outputId": "e89851a5-ce71-4725-ed7f-cfd123e70908"
      },
      "execution_count": null,
      "outputs": [
        {
          "output_type": "execute_result",
          "data": {
            "text/plain": [
              "Index(['X_coord', 'Y_coord', 'NNPA', 'NND4', 'NNA1', 'NNA2', 'NNA5', 'NNA6',\n",
              "       'NNA7', 'NNA8'],\n",
              "      dtype='object')"
            ]
          },
          "metadata": {},
          "execution_count": 305
        }
      ]
    },
    {
      "cell_type": "code",
      "source": [
        "from sklearn.model_selection import train_test_split\n",
        "X_train, X_test, Y_train, Y_test = train_test_split(X, Y, test_size=0.2)"
      ],
      "metadata": {
        "id": "bMor5ue3MQ9i"
      },
      "execution_count": null,
      "outputs": []
    },
    {
      "cell_type": "code",
      "source": [
        "from sklearn.preprocessing import StandardScaler\n",
        "s_scaler = StandardScaler()\n",
        "X_train = s_scaler.fit_transform(X_train.astype(np.float))\n",
        "X_test = s_scaler.transform(X_test.astype(np.float))\n",
        "Y_test = StandardScaler().fit_transform(Y_test.reshape(len(Y_test),1))[:,0]\n",
        "Y_train = StandardScaler().fit_transform(Y_train.reshape(len(Y_train),1))[:,0]"
      ],
      "metadata": {
        "id": "BQgRyT8jMQ6_",
        "colab": {
          "base_uri": "https://localhost:8080/"
        },
        "outputId": "2630a053-6234-459c-a11e-9b71d5c8f3ba"
      },
      "execution_count": null,
      "outputs": [
        {
          "output_type": "stream",
          "name": "stderr",
          "text": [
            "/usr/local/lib/python3.7/dist-packages/ipykernel_launcher.py:3: DeprecationWarning: `np.float` is a deprecated alias for the builtin `float`. To silence this warning, use `float` by itself. Doing this will not modify any behavior and is safe. If you specifically wanted the numpy scalar type, use `np.float64` here.\n",
            "Deprecated in NumPy 1.20; for more details and guidance: https://numpy.org/devdocs/release/1.20.0-notes.html#deprecations\n",
            "  This is separate from the ipykernel package so we can avoid doing imports until\n",
            "/usr/local/lib/python3.7/dist-packages/ipykernel_launcher.py:4: DeprecationWarning: `np.float` is a deprecated alias for the builtin `float`. To silence this warning, use `float` by itself. Doing this will not modify any behavior and is safe. If you specifically wanted the numpy scalar type, use `np.float64` here.\n",
            "Deprecated in NumPy 1.20; for more details and guidance: https://numpy.org/devdocs/release/1.20.0-notes.html#deprecations\n",
            "  after removing the cwd from sys.path.\n"
          ]
        }
      ]
    },
    {
      "cell_type": "code",
      "source": [
        "regressor=xgb.XGBRegressor(learning_rate = 0.015,\n",
        "                           n_estimators  =800,\n",
        "                           max_depth     = 9)\n",
        "\n",
        "regressor.fit(X_train, Y_train)"
      ],
      "metadata": {
        "id": "2eRj8-2BMQ4R",
        "colab": {
          "base_uri": "https://localhost:8080/"
        },
        "outputId": "0a34692e-f656-43fb-b6e8-62f00a10a323"
      },
      "execution_count": null,
      "outputs": [
        {
          "output_type": "stream",
          "name": "stdout",
          "text": [
            "[21:46:24] WARNING: /workspace/src/objective/regression_obj.cu:152: reg:linear is now deprecated in favor of reg:squarederror.\n"
          ]
        },
        {
          "output_type": "execute_result",
          "data": {
            "text/plain": [
              "XGBRegressor(learning_rate=0.015, max_depth=9, n_estimators=800)"
            ]
          },
          "metadata": {},
          "execution_count": 308
        }
      ]
    },
    {
      "cell_type": "code",
      "source": [
        "predictions = regressor.predict(X_test)"
      ],
      "metadata": {
        "id": "PIvUkkQYMQ13"
      },
      "execution_count": null,
      "outputs": []
    },
    {
      "cell_type": "code",
      "source": [
        "Y_pred = regressor.predict(X_test)\n",
        "from sklearn import metrics\n",
        "print('MAE:', metrics.mean_absolute_error(Y_test, Y_pred))  \n",
        "#print('MSE:', metrics.mean_squared_error(y_test, y_pred))  \n",
        "# print('RMSE:', np.sqrt(metrics.mean_squared_error(y_test, y_pred)))\n",
        "# print('VarScore:',metrics.explained_variance_score(y_test,y_pred))\n",
        "# Visualizing Our predictions\n",
        "fig = plt.figure(figsize=(10,5))\n",
        "plt.scatter(Y_test,Y_pred)\n",
        "# Perfect predictions\n",
        "plt.plot(Y_test,Y_test,'r')"
      ],
      "metadata": {
        "id": "HrESFP_TMQzV",
        "colab": {
          "base_uri": "https://localhost:8080/",
          "height": 376
        },
        "outputId": "606417aa-ee9d-40fd-f02c-9fba21ae8cb3"
      },
      "execution_count": null,
      "outputs": [
        {
          "output_type": "stream",
          "name": "stdout",
          "text": [
            "MAE: 0.5133107506040722\n"
          ]
        },
        {
          "output_type": "execute_result",
          "data": {
            "text/plain": [
              "[<matplotlib.lines.Line2D at 0x7f125c083750>]"
            ]
          },
          "metadata": {},
          "execution_count": 310
        },
        {
          "output_type": "display_data",
          "data": {
            "text/plain": [
              "<Figure size 720x360 with 1 Axes>"
            ],
            "image/png": "[encoded data removed]"
          },
          "metadata": {}
        }
      ]
    },
    {
      "cell_type": "code",
      "source": [
        "from sklearn.metrics import r2_score\n",
        "r2_score(Y_test, Y_pred)"
      ],
      "metadata": {
        "colab": {
          "base_uri": "https://localhost:8080/"
        },
        "id": "eZGOe_WbcXPX",
        "outputId": "4c52eed7-97df-4d43-fe4b-7f0040f3d248"
      },
      "execution_count": null,
      "outputs": [
        {
          "output_type": "execute_result",
          "data": {
            "text/plain": [
              "0.5514994387395638"
            ]
          },
          "metadata": {},
          "execution_count": 311
        }
      ]
    },
    {
      "cell_type": "code",
      "source": [],
      "metadata": {
        "id": "4m3K8ww26Ipa"
      },
      "execution_count": null,
      "outputs": []
    }
  ]
}